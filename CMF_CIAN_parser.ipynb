{
 "cells": [
  {
   "cell_type": "markdown",
   "metadata": {},
   "source": [
    "# CIAN.ru"
   ]
  },
  {
   "cell_type": "code",
   "execution_count": 1,
   "metadata": {
    "collapsed": true
   },
   "outputs": [],
   "source": [
    "import requests\n",
    "import re\n",
    "from bs4 import BeautifulSoup\n",
    "import pandas as pd\n",
    "import time"
   ]
  },
  {
   "cell_type": "code",
   "execution_count": 2,
   "metadata": {
    "collapsed": true
   },
   "outputs": [],
   "source": [
    "def html_stripper(text):\n",
    "    return re.sub('<[^<]+?>', '', str(text))"
   ]
  },
  {
   "cell_type": "code",
   "execution_count": 3,
   "metadata": {
    "collapsed": true
   },
   "outputs": [],
   "source": [
    "page = 1"
   ]
  },
  {
   "cell_type": "markdown",
   "metadata": {},
   "source": [
    "### Для ЦАО находим главную ссылку и в ней находим **&p=1&**, это и есть переход по страницам"
   ]
  },
  {
   "cell_type": "code",
   "execution_count": 4,
   "metadata": {
    "collapsed": false
   },
   "outputs": [],
   "source": [
    "district = 'http://www.cian.ru/cat.php?deal_type=sale&district%5B0%5D=13&district%5B1%5D=14&district%5B2%5D=15&district%5B3%5D=16&district%5B4%5D=17&district%5B5%5D=18&district%5B6%5D=19&district%5B7%5D=20&district%5B8%5D=21&district%5B9%5D=22&engine_version=2&offer_type=flat&p={}&room1=1&room2=1&room3=1&room4=1&room5=1&room6=1'"
   ]
  },
  {
   "cell_type": "code",
   "execution_count": 5,
   "metadata": {
    "collapsed": false
   },
   "outputs": [
    {
     "data": {
      "text/plain": [
       "'http://www.cian.ru/cat.php?deal_type=sale&district%5B0%5D=13&district%5B1%5D=14&district%5B2%5D=15&district%5B3%5D=16&district%5B4%5D=17&district%5B5%5D=18&district%5B6%5D=19&district%5B7%5D=20&district%5B8%5D=21&district%5B9%5D=22&engine_version=2&offer_type=flat&p={}&room1=1&room2=1&room3=1&room4=1&room5=1&room6=1'"
      ]
     },
     "execution_count": 5,
     "metadata": {},
     "output_type": "execute_result"
    }
   ],
   "source": [
    "district"
   ]
  },
  {
   "cell_type": "markdown",
   "metadata": {},
   "source": [
    "### Гуляем по страницам и качаем с них все ссылки на наши квартирки"
   ]
  },
  {
   "cell_type": "code",
   "execution_count": 6,
   "metadata": {
    "collapsed": false
   },
   "outputs": [],
   "source": [
    "links = []\n",
    "for page in range(1, 30):\n",
    "    page_url =  district.format(page)\n",
    "\n",
    "    search_page = requests.get(page_url)\n",
    "    search_page = search_page.content\n",
    "    search_page = BeautifulSoup(search_page, 'lxml')\n",
    "\n",
    "    flat_urls = search_page.findAll('div', attrs = {'ng-class':\"{'serp-item_removed': offer.remove.state, 'serp-item_popup-opened': isPopupOpen}\"})\n",
    "    flat_urls = re.split('http://www.cian.ru/sale/flat/|/\" ng-class=\"', str(flat_urls))\n",
    "\n",
    "    for link in flat_urls:\n",
    "        if link.isdigit():\n",
    "            links.append(link)"
   ]
  },
  {
   "cell_type": "code",
   "execution_count": 7,
   "metadata": {
    "collapsed": false
   },
   "outputs": [
    {
     "data": {
      "text/plain": [
       "'151051665'"
      ]
     },
     "execution_count": 7,
     "metadata": {},
     "output_type": "execute_result"
    }
   ],
   "source": [
    "links[0]"
   ]
  },
  {
   "cell_type": "code",
   "execution_count": 8,
   "metadata": {
    "collapsed": false
   },
   "outputs": [
    {
     "data": {
      "text/plain": [
       "812"
      ]
     },
     "execution_count": 8,
     "metadata": {},
     "output_type": "execute_result"
    }
   ],
   "source": [
    "len(links)"
   ]
  },
  {
   "cell_type": "markdown",
   "metadata": {},
   "source": [
    "Итого вытащили 812 квартирок по ЦАО"
   ]
  },
  {
   "cell_type": "markdown",
   "metadata": {},
   "source": [
    "### Попробуем перейти на первую"
   ]
  },
  {
   "cell_type": "code",
   "execution_count": 9,
   "metadata": {
    "collapsed": false
   },
   "outputs": [],
   "source": [
    "flat_url = 'http://www.cian.ru/sale/flat/' + str(links[0]) + '/'\n",
    "#flat_url = 'http://www.cian.ru/sale/flat/150531912/' \n",
    "flat_page = requests.get(flat_url)\n",
    "flat_page = flat_page.content\n",
    "flat_page = BeautifulSoup(flat_page, 'lxml')"
   ]
  },
  {
   "cell_type": "code",
   "execution_count": 10,
   "metadata": {
    "collapsed": false
   },
   "outputs": [],
   "source": [
    "flatStats = {'District':0}"
   ]
  },
  {
   "cell_type": "markdown",
   "metadata": {},
   "source": [
    "# Цена"
   ]
  },
  {
   "cell_type": "code",
   "execution_count": 11,
   "metadata": {
    "collapsed": false
   },
   "outputs": [],
   "source": [
    "price = flat_page.find('div', attrs={'class':'object_descr_price'})\n",
    "price = re.split('<div>|за м<sup>2</sup>|\\n|руб|\\W', str(price))"
   ]
  },
  {
   "cell_type": "code",
   "execution_count": 12,
   "metadata": {
    "collapsed": false
   },
   "outputs": [
    {
     "name": "stdout",
     "output_type": "stream",
     "text": [
      "['', 'div', 'class', '', 'object_descr_price', '', '', '', '', '', '', '', '', '', '', '', '', '', '', '', '', '', '', '', '', '', '', '', '', '', '', '', '', '', '', '', '', '', '18', '356', '000', '', '', '', '', '', '', '', '', '', '', '', '', '', '', '', '', '', '', '', '', '', '', '', '', '', '', '', '', '', '', '', '', '', '', '', '', '', '', '', '', '', '', '', '', '', '', '', '', '', '', '', '', '', '', '', 'div', '']\n"
     ]
    }
   ],
   "source": [
    "print(price)"
   ]
  },
  {
   "cell_type": "code",
   "execution_count": 13,
   "metadata": {
    "collapsed": false
   },
   "outputs": [
    {
     "data": {
      "text/plain": [
       "['18', '356', '000']"
      ]
     },
     "execution_count": 13,
     "metadata": {},
     "output_type": "execute_result"
    }
   ],
   "source": [
    "[i for i in price if i.isdigit()][-3:]"
   ]
  },
  {
   "cell_type": "code",
   "execution_count": 14,
   "metadata": {
    "collapsed": false
   },
   "outputs": [
    {
     "data": {
      "text/plain": [
       "'18356000'"
      ]
     },
     "execution_count": 14,
     "metadata": {},
     "output_type": "execute_result"
    }
   ],
   "source": [
    "\"\".join([i for i in price if i.isdigit()][-3:])"
   ]
  },
  {
   "cell_type": "code",
   "execution_count": 15,
   "metadata": {
    "collapsed": true
   },
   "outputs": [],
   "source": [
    "price = \"\".join([i for i in price if i.isdigit()][-3:])"
   ]
  },
  {
   "cell_type": "code",
   "execution_count": 16,
   "metadata": {
    "collapsed": true
   },
   "outputs": [],
   "source": [
    "def getPrice(flat_page):\n",
    "    price = flat_page.find('div', attrs={'class':'object_descr_price'})\n",
    "    price = re.split('<div>|руб|\\W', str(price))\n",
    "    price = \"\".join([i for i in price if i.isdigit()][-3:])\n",
    "    return int(price)"
   ]
  },
  {
   "cell_type": "code",
   "execution_count": 17,
   "metadata": {
    "collapsed": false
   },
   "outputs": [
    {
     "data": {
      "text/plain": [
       "18356000"
      ]
     },
     "execution_count": 17,
     "metadata": {},
     "output_type": "execute_result"
    }
   ],
   "source": [
    "getPrice(flat_page)"
   ]
  },
  {
   "cell_type": "code",
   "execution_count": 18,
   "metadata": {
    "collapsed": true
   },
   "outputs": [],
   "source": [
    "flatStats['Price'] = getPrice(flat_page)"
   ]
  },
  {
   "cell_type": "markdown",
   "metadata": {},
   "source": [
    "# Координаты"
   ]
  },
  {
   "cell_type": "code",
   "execution_count": 19,
   "metadata": {
    "collapsed": false
   },
   "outputs": [
    {
     "data": {
      "text/plain": [
       "<a href=\"http://map.cian.ru/?deal_type=2&amp;flats=yes&amp;center=55.770208%2C37.638036&amp;room0=1&amp;room1=1\" rel=\"nofollow\" target=\"_blank\"><i></i>Посмотреть предложения рядом</a>"
      ]
     },
     "execution_count": 19,
     "metadata": {},
     "output_type": "execute_result"
    }
   ],
   "source": [
    "flat_page.find('div', attrs={'class':'map_info_button_extend'}).contents[1]"
   ]
  },
  {
   "cell_type": "code",
   "execution_count": 20,
   "metadata": {
    "collapsed": false
   },
   "outputs": [],
   "source": [
    "coords = flat_page.find('div', attrs={'class':'map_info_button_extend'}).contents[1]\n",
    "coords = re.split('&amp|center=|%2C', str(coords))\n",
    "coords_list = []\n",
    "for item in coords:\n",
    "    if item[0].isdigit():\n",
    "        coords_list.append(item)\n",
    "lat = float(coords_list[0])\n",
    "lon = float(coords_list[1])"
   ]
  },
  {
   "cell_type": "code",
   "execution_count": 21,
   "metadata": {
    "collapsed": false
   },
   "outputs": [
    {
     "data": {
      "text/plain": [
       "(55.770208, 37.638036)"
      ]
     },
     "execution_count": 21,
     "metadata": {},
     "output_type": "execute_result"
    }
   ],
   "source": [
    "lat, lon"
   ]
  },
  {
   "cell_type": "code",
   "execution_count": 22,
   "metadata": {
    "collapsed": true
   },
   "outputs": [],
   "source": [
    "def getCoords(flat_page):\n",
    "    coords = flat_page.find('div', attrs={'class':'map_info_button_extend'}).contents[1]\n",
    "    coords = re.split('&amp|center=|%2C', str(coords))\n",
    "    coords_list = []\n",
    "    for item in coords:\n",
    "        if item[0].isdigit():\n",
    "            coords_list.append(item)\n",
    "    lat = float(coords_list[0])\n",
    "    lon = float(coords_list[1])\n",
    "    return lat, lon"
   ]
  },
  {
   "cell_type": "code",
   "execution_count": 23,
   "metadata": {
    "collapsed": false
   },
   "outputs": [
    {
     "data": {
      "text/plain": [
       "(55.770208, 37.638036)"
      ]
     },
     "execution_count": 23,
     "metadata": {},
     "output_type": "execute_result"
    }
   ],
   "source": [
    "getCoords(flat_page)"
   ]
  },
  {
   "cell_type": "code",
   "execution_count": 24,
   "metadata": {
    "collapsed": true
   },
   "outputs": [],
   "source": [
    "flatStats['lat'], flatStats['lon'] = getCoords(flat_page)"
   ]
  },
  {
   "cell_type": "markdown",
   "metadata": {},
   "source": [
    "# Число комнат"
   ]
  },
  {
   "cell_type": "code",
   "execution_count": 25,
   "metadata": {
    "collapsed": true
   },
   "outputs": [],
   "source": [
    "rooms = flat_page.find('div', attrs={'class':'object_descr_title'})"
   ]
  },
  {
   "cell_type": "code",
   "execution_count": 26,
   "metadata": {
    "collapsed": false
   },
   "outputs": [
    {
     "data": {
      "text/plain": [
       "<div class=\"object_descr_title\" itemprop=\"name\">\n",
       "                \n",
       "    \n",
       "        1-комн. кв. \n",
       "    \n",
       "\n",
       "                \n",
       "                    \n",
       "                        в <a href=\"/zhiloy-kompleks-klubnyy-dom-na-sretenke-moskva-7099/\" target=\"_blank\">ЖК «Клубный дом на Сретенке»</a>\n",
       "</div>"
      ]
     },
     "execution_count": 26,
     "metadata": {},
     "output_type": "execute_result"
    }
   ],
   "source": [
    "rooms"
   ]
  },
  {
   "cell_type": "code",
   "execution_count": 27,
   "metadata": {
    "collapsed": false
   },
   "outputs": [],
   "source": [
    "rooms = html_stripper(rooms)"
   ]
  },
  {
   "cell_type": "code",
   "execution_count": 28,
   "metadata": {
    "collapsed": false
   },
   "outputs": [
    {
     "data": {
      "text/plain": [
       "'\\n                \\n    \\n        1-комн. кв.\\xa0\\n    \\n\\n                \\n                    \\n                        в\\xa0ЖК «Клубный дом на Сретенке»\\n'"
      ]
     },
     "execution_count": 28,
     "metadata": {},
     "output_type": "execute_result"
    }
   ],
   "source": [
    "rooms"
   ]
  },
  {
   "cell_type": "code",
   "execution_count": 29,
   "metadata": {
    "collapsed": false
   },
   "outputs": [],
   "source": [
    "room_number = ''\n",
    "for i in re.split('-|\\n', rooms):\n",
    "    if 'комн' in i:\n",
    "        break\n",
    "    else:\n",
    "        room_number += i\n",
    "room_number = \"\".join(room_number.split())"
   ]
  },
  {
   "cell_type": "code",
   "execution_count": 30,
   "metadata": {
    "collapsed": false
   },
   "outputs": [
    {
     "data": {
      "text/plain": [
       "'1'"
      ]
     },
     "execution_count": 30,
     "metadata": {},
     "output_type": "execute_result"
    }
   ],
   "source": [
    "room_number"
   ]
  },
  {
   "cell_type": "code",
   "execution_count": 31,
   "metadata": {
    "collapsed": true
   },
   "outputs": [],
   "source": [
    "def getRoom(flat_page):\n",
    "    rooms = flat_page.find('div', attrs={'class':'object_descr_title'})\n",
    "    rooms = html_stripper(rooms)\n",
    "    room_number = ''\n",
    "    for i in re.split('-|\\n', rooms):\n",
    "        if 'комн' in i:\n",
    "            break\n",
    "        else:\n",
    "            room_number += i\n",
    "    room_number = \"\".join(room_number.split())\n",
    "    return room_number"
   ]
  },
  {
   "cell_type": "code",
   "execution_count": 32,
   "metadata": {
    "collapsed": false
   },
   "outputs": [
    {
     "data": {
      "text/plain": [
       "'1'"
      ]
     },
     "execution_count": 32,
     "metadata": {},
     "output_type": "execute_result"
    }
   ],
   "source": [
    "getRoom(flat_page)"
   ]
  },
  {
   "cell_type": "code",
   "execution_count": 33,
   "metadata": {
    "collapsed": true
   },
   "outputs": [],
   "source": [
    "flatStats['rooms'] = getRoom(flat_page)"
   ]
  },
  {
   "cell_type": "markdown",
   "metadata": {},
   "source": [
    "# Общая площадь квартиры\n"
   ]
  },
  {
   "cell_type": "code",
   "execution_count": 34,
   "metadata": {
    "collapsed": true
   },
   "outputs": [],
   "source": [
    "totsp = flat_page.find('div', attrs={'class':'clearfix'})"
   ]
  },
  {
   "cell_type": "code",
   "execution_count": 35,
   "metadata": {
    "collapsed": true
   },
   "outputs": [
    {
     "data": {
      "text/plain": [
       "<div class=\"clearfix\" style=\"position: relative\">\n",
       "<table class=\"object_descr_props flat sale\" style=\"float:left\">\n",
       "<tr>\n",
       "<th style=\"padding-top:5px;\"> # Общая информация:</th>\n",
       "</tr>\n",
       "<tr>\n",
       "<th>Этаж:</th>\n",
       "<td>\n",
       "                3 / 8\n",
       "                \n",
       "            </td>\n",
       "</tr>\n",
       "<tr>\n",
       "<th>Тип дома:</th>\n",
       "<td>\n",
       "            новостройка, \n",
       "            монолитный\n",
       "        </td>\n",
       "</tr>\n",
       "<tr>\n",
       "<th>Тип продажи:</th>\n",
       "<td>свободная</td>\n",
       "</tr>\n",
       "<tr>\n",
       "<th>Общая площадь:</th>\n",
       "<td>\n",
       "<i class=\"object_descr_details_color\"></i>48,8 м<sup>2</sup>\n",
       "</td>\n",
       "</tr>\n",
       "<tr>\n",
       "<th>Площадь комнат:</th>\n",
       "<td>\n",
       "<i class=\"object_descr_details_color\"></i><!--\n",
       "-->–\n",
       "        </td>\n",
       "</tr>\n",
       "<tr>\n",
       "<th>Жилая площадь:</th>\n",
       "<td>\n",
       "<i class=\"object_descr_details_color\" style=\"background-color:#90C090\"></i>18 м<sup>2</sup>\n",
       "</td>\n",
       "</tr>\n",
       "<tr>\n",
       "<th>Площадь кухни:</th>\n",
       "<td>\n",
       "<i class=\"object_descr_details_color\" style=\"background-color:#C09090\"></i>10 м<sup>2</sup>\n",
       "</td>\n",
       "</tr>\n",
       "<tr>\n",
       "<th>Раздельных санузлов:</th>\n",
       "<td><i class=\"object_descr_details_color\" style=\"background-color:#90C0C0\"></i>1\n",
       "            </td>\n",
       "</tr>\n",
       "<tr>\n",
       "<th>Совмещенных санузлов:</th>\n",
       "<td><i class=\"object_descr_details_color\" style=\"background-color:#90C0C0\"></i>1\n",
       "            </td>\n",
       "</tr>\n",
       "<tr>\n",
       "<th>Балкон:</th>\n",
       "<td><i class=\"object_descr_details_color\" style=\"background-color:#C0C0C0\"></i>1 балк. + 1 лодж.\n",
       "        </td>\n",
       "</tr>\n",
       "<tr>\n",
       "<th>Лифт:</th>\n",
       "<td>4 пасс. + 4 груз.</td>\n",
       "</tr>\n",
       "<tr>\n",
       "<th>Вид из окна:</th>\n",
       "<td>двор и улица</td>\n",
       "</tr>\n",
       "<tr>\n",
       "<th>Сдача ГК:</th>\n",
       "<td>3 кв. 2017 года</td>\n",
       "</tr>\n",
       "</table>\n",
       "<!--AdFox START-->\n",
       "<!--cian-->\n",
       "<!--Площадка: Cian.ru / Карточка Объекта / Ипотечный блок (тест)-->\n",
       "<!--Категория: <не задана>-->\n",
       "<!--Тип баннера: Ипотечный блок (тест)-->\n",
       "<!-- ________________________AdFox Asynchronous code START__________________________ -->\n",
       "<div id=\"ad_mortgage_card_exp_1\" style=\"display: inline-block;top: 0;right: 0;\"></div>\n",
       "<script type=\"text/javascript\">\n",
       "<!--\n",
       "if (typeof(pr) == 'undefined') { var pr = Math.floor(Math.random() * 4294967295) + 1; }\n",
       "if (typeof(document.referrer) != 'undefined') {\n",
       "  if (typeof(afReferrer) == 'undefined') {\n",
       "    afReferrer = encodeURIComponent(document.referrer);\n",
       "  }\n",
       "} else {\n",
       "  afReferrer = '';\n",
       "}\n",
       "var addate = new Date();\n",
       "\n",
       "\n",
       "var dl = encodeURIComponent(document.location);\n",
       "var pr1 = Math.floor(Math.random() * 4294967295) + 1;\n",
       "\n",
       "(function(){\n",
       "var elem = document.getElementById('ad_mortgage_card_exp_1');\n",
       "elem.setAttribute('id', 'ad_mortgage_card_exp_1' + pr1);\n",
       "elem.innerHTML = '<div id=\"AdFox_banner_'+pr1+'\" style=\"height: 100%;\"></div>';\n",
       "elem.innerHTML += '<div style=\"visibility:hidden; position:absolute;\"><iframe id=\"AdFox_iframe_'+pr1+'\" width=1 height=1 marginwidth=0 marginheight=0 scrolling=no frameborder=0></iframe></div>';\n",
       "})();\n",
       "\n",
       "AdFox_getCodeScript(1,pr1,'//ads.adfox.ru/202100/prepareCode?p1=bvkoc&amp;p2=fkib&amp;pct=a&amp;pfc=a&amp;pfb=a&amp;plp=a&amp;pli=a&amp;pop=a&amp;pr=' + pr +'&amp;pt=b&amp;pd=' + addate.getDate() + '&amp;pw=' + addate.getDay() + '&amp;pv=' + addate.getHours() + '&amp;prr=' + afReferrer + '&amp;puid17=true&amp;puid16=false&amp;puid10=no_agent&amp;puid7=2323&amp;puid6=15001_20000&amp;puid5=obl_id_1&amp;puid4=offer_type_1&amp;puid3=sale_type_first&amp;puid2=offer_flat&amp;puid1=deal_type_sale&amp;puid9=121&amp;puid8=18356000&amp;dl='+dl+'&amp;pr1='+pr1);\n",
       "// -->\n",
       "</script>\n",
       "<!-- _________________________AdFox Asynchronous code END___________________________ -->\n",
       "</div>"
      ]
     },
     "execution_count": 35,
     "metadata": {},
     "output_type": "execute_result"
    }
   ],
   "source": [
    "totsp"
   ]
  },
  {
   "cell_type": "code",
   "execution_count": 36,
   "metadata": {
    "collapsed": true
   },
   "outputs": [],
   "source": [
    "totsp = html_stripper(totsp)"
   ]
  },
  {
   "cell_type": "code",
   "execution_count": 37,
   "metadata": {
    "collapsed": true
   },
   "outputs": [
    {
     "data": {
      "text/plain": [
       "\"\\n\\n\\n # Общая информация:\\n\\n\\nЭтаж:\\n\\n                3\\xa0/\\xa08\\n                \\n            \\n\\n\\nТип дома:\\n\\n            новостройка, \\n            монолитный\\n        \\n\\n\\nТип продажи:\\nсвободная\\n\\n\\nОбщая площадь:\\n\\n48,8\\xa0м2\\n\\n\\n\\nПлощадь комнат:\\n\\n–\\n        \\n\\n\\nЖилая площадь:\\n\\n18\\xa0м2\\n\\n\\n\\nПлощадь кухни:\\n\\n10\\xa0м2\\n\\n\\n\\nРаздельных санузлов:\\n1\\n            \\n\\n\\nСовмещенных санузлов:\\n1\\n            \\n\\n\\nБалкон:\\n1 балк. + 1 лодж.\\n        \\n\\n\\nЛифт:\\n4 пасс. + 4 груз.\\n\\n\\nВид из окна:\\nдвор и улица\\n\\n\\nСдача ГК:\\n3 кв. 2017 года\\n\\n\\n\\n\\n\\n<!--Категория: -->\\n\\n\\n\\n\\n<!--\\nif (typeof(pr) == 'undefined') { var pr = Math.floor(Math.random() * 4294967295) + 1; }\\nif (typeof(document.referrer) != 'undefined') {\\n  if (typeof(afReferrer) == 'undefined') {\\n    afReferrer = encodeURIComponent(document.referrer);\\n  }\\n} else {\\n  afReferrer = '';\\n}\\nvar addate = new Date();\\n\\n\\nvar dl = encodeURIComponent(document.location);\\nvar pr1 = Math.floor(Math.random() * 4294967295) + 1;\\n\\n(function(){\\nvar elem = document.getElementById('ad_mortgage_card_exp_1');\\nelem.setAttribute('id', 'ad_mortgage_card_exp_1' + pr1);\\nelem.innerHTML = '';\\nelem.innerHTML += '';\\n})();\\n\\nAdFox_getCodeScript(1,pr1,'//ads.adfox.ru/202100/prepareCode?p1=bvkoc&amp;p2=fkib&amp;pct=a&amp;pfc=a&amp;pfb=a&amp;plp=a&amp;pli=a&amp;pop=a&amp;pr=' + pr +'&amp;pt=b&amp;pd=' + addate.getDate() + '&amp;pw=' + addate.getDay() + '&amp;pv=' + addate.getHours() + '&amp;prr=' + afReferrer + '&amp;puid17=true&amp;puid16=false&amp;puid10=no_agent&amp;puid7=2323&amp;puid6=15001_20000&amp;puid5=obl_id_1&amp;puid4=offer_type_1&amp;puid3=sale_type_first&amp;puid2=offer_flat&amp;puid1=deal_type_sale&amp;puid9=121&amp;puid8=18356000&amp;dl='+dl+'&amp;pr1='+pr1);\\n// -->\\n\\n\\n\""
      ]
     },
     "execution_count": 37,
     "metadata": {},
     "output_type": "execute_result"
    }
   ],
   "source": [
    "totsp"
   ]
  },
  {
   "cell_type": "code",
   "execution_count": 38,
   "metadata": {
    "collapsed": true
   },
   "outputs": [],
   "source": [
    "totsp_number = ''\n",
    "for i in re.split('-|\\n', totsp):\n",
    "    if 'Площадь комнат' in i:\n",
    "        break\n",
    "    else:\n",
    "        totsp_number += i\n",
    "totsp_number = \"\".join(totsp_number.split())\n",
    "\n",
    "totsp_m2 = totsp_number.split(':')[-1].split('м')[0]"
   ]
  },
  {
   "cell_type": "code",
   "execution_count": 39,
   "metadata": {
    "collapsed": false,
    "scrolled": true
   },
   "outputs": [
    {
     "data": {
      "text/plain": [
       "'48,8'"
      ]
     },
     "execution_count": 39,
     "metadata": {},
     "output_type": "execute_result"
    }
   ],
   "source": [
    "totsp_m2"
   ]
  },
  {
   "cell_type": "code",
   "execution_count": 40,
   "metadata": {
    "collapsed": false
   },
   "outputs": [],
   "source": [
    "def gettotsp(flat_page):\n",
    "    totsp = flat_page.find('div', attrs={'class':'clearfix'})\n",
    "    totsp = html_stripper(totsp)\n",
    "    totsp_number = ''\n",
    "    for i in re.split('-|\\n', totsp):\n",
    "        if 'Площадь комнат' in i:\n",
    "            break\n",
    "        else:\n",
    "            totsp_number += i\n",
    "    totsp_number = \"\".join(totsp_number.split())\n",
    "    totsp_m2 = totsp_number.split(':')[-1].split('м')[0]\n",
    "    return totsp_m2"
   ]
  },
  {
   "cell_type": "code",
   "execution_count": 41,
   "metadata": {
    "collapsed": false
   },
   "outputs": [
    {
     "data": {
      "text/plain": [
       "'48,8'"
      ]
     },
     "execution_count": 41,
     "metadata": {},
     "output_type": "execute_result"
    }
   ],
   "source": [
    "gettotsp(flat_page)"
   ]
  },
  {
   "cell_type": "code",
   "execution_count": 42,
   "metadata": {
    "collapsed": true
   },
   "outputs": [],
   "source": [
    "flatStats['totsp'] = gettotsp(flat_page)"
   ]
  },
  {
   "cell_type": "markdown",
   "metadata": {},
   "source": [
    "# Жилое пространство"
   ]
  },
  {
   "cell_type": "code",
   "execution_count": 43,
   "metadata": {
    "collapsed": true
   },
   "outputs": [],
   "source": [
    "livesp = flat_page.find('div', attrs={'class':'clearfix'})"
   ]
  },
  {
   "cell_type": "code",
   "execution_count": 44,
   "metadata": {
    "collapsed": true
   },
   "outputs": [
    {
     "data": {
      "text/plain": [
       "<div class=\"clearfix\" style=\"position: relative\">\n",
       "<table class=\"object_descr_props flat sale\" style=\"float:left\">\n",
       "<tr>\n",
       "<th style=\"padding-top:5px;\"> # Общая информация:</th>\n",
       "</tr>\n",
       "<tr>\n",
       "<th>Этаж:</th>\n",
       "<td>\n",
       "                3 / 8\n",
       "                \n",
       "            </td>\n",
       "</tr>\n",
       "<tr>\n",
       "<th>Тип дома:</th>\n",
       "<td>\n",
       "            новостройка, \n",
       "            монолитный\n",
       "        </td>\n",
       "</tr>\n",
       "<tr>\n",
       "<th>Тип продажи:</th>\n",
       "<td>свободная</td>\n",
       "</tr>\n",
       "<tr>\n",
       "<th>Общая площадь:</th>\n",
       "<td>\n",
       "<i class=\"object_descr_details_color\"></i>48,8 м<sup>2</sup>\n",
       "</td>\n",
       "</tr>\n",
       "<tr>\n",
       "<th>Площадь комнат:</th>\n",
       "<td>\n",
       "<i class=\"object_descr_details_color\"></i><!--\n",
       "-->–\n",
       "        </td>\n",
       "</tr>\n",
       "<tr>\n",
       "<th>Жилая площадь:</th>\n",
       "<td>\n",
       "<i class=\"object_descr_details_color\" style=\"background-color:#90C090\"></i>18 м<sup>2</sup>\n",
       "</td>\n",
       "</tr>\n",
       "<tr>\n",
       "<th>Площадь кухни:</th>\n",
       "<td>\n",
       "<i class=\"object_descr_details_color\" style=\"background-color:#C09090\"></i>10 м<sup>2</sup>\n",
       "</td>\n",
       "</tr>\n",
       "<tr>\n",
       "<th>Раздельных санузлов:</th>\n",
       "<td><i class=\"object_descr_details_color\" style=\"background-color:#90C0C0\"></i>1\n",
       "            </td>\n",
       "</tr>\n",
       "<tr>\n",
       "<th>Совмещенных санузлов:</th>\n",
       "<td><i class=\"object_descr_details_color\" style=\"background-color:#90C0C0\"></i>1\n",
       "            </td>\n",
       "</tr>\n",
       "<tr>\n",
       "<th>Балкон:</th>\n",
       "<td><i class=\"object_descr_details_color\" style=\"background-color:#C0C0C0\"></i>1 балк. + 1 лодж.\n",
       "        </td>\n",
       "</tr>\n",
       "<tr>\n",
       "<th>Лифт:</th>\n",
       "<td>4 пасс. + 4 груз.</td>\n",
       "</tr>\n",
       "<tr>\n",
       "<th>Вид из окна:</th>\n",
       "<td>двор и улица</td>\n",
       "</tr>\n",
       "<tr>\n",
       "<th>Сдача ГК:</th>\n",
       "<td>3 кв. 2017 года</td>\n",
       "</tr>\n",
       "</table>\n",
       "<!--AdFox START-->\n",
       "<!--cian-->\n",
       "<!--Площадка: Cian.ru / Карточка Объекта / Ипотечный блок (тест)-->\n",
       "<!--Категория: <не задана>-->\n",
       "<!--Тип баннера: Ипотечный блок (тест)-->\n",
       "<!-- ________________________AdFox Asynchronous code START__________________________ -->\n",
       "<div id=\"ad_mortgage_card_exp_1\" style=\"display: inline-block;top: 0;right: 0;\"></div>\n",
       "<script type=\"text/javascript\">\n",
       "<!--\n",
       "if (typeof(pr) == 'undefined') { var pr = Math.floor(Math.random() * 4294967295) + 1; }\n",
       "if (typeof(document.referrer) != 'undefined') {\n",
       "  if (typeof(afReferrer) == 'undefined') {\n",
       "    afReferrer = encodeURIComponent(document.referrer);\n",
       "  }\n",
       "} else {\n",
       "  afReferrer = '';\n",
       "}\n",
       "var addate = new Date();\n",
       "\n",
       "\n",
       "var dl = encodeURIComponent(document.location);\n",
       "var pr1 = Math.floor(Math.random() * 4294967295) + 1;\n",
       "\n",
       "(function(){\n",
       "var elem = document.getElementById('ad_mortgage_card_exp_1');\n",
       "elem.setAttribute('id', 'ad_mortgage_card_exp_1' + pr1);\n",
       "elem.innerHTML = '<div id=\"AdFox_banner_'+pr1+'\" style=\"height: 100%;\"></div>';\n",
       "elem.innerHTML += '<div style=\"visibility:hidden; position:absolute;\"><iframe id=\"AdFox_iframe_'+pr1+'\" width=1 height=1 marginwidth=0 marginheight=0 scrolling=no frameborder=0></iframe></div>';\n",
       "})();\n",
       "\n",
       "AdFox_getCodeScript(1,pr1,'//ads.adfox.ru/202100/prepareCode?p1=bvkoc&amp;p2=fkib&amp;pct=a&amp;pfc=a&amp;pfb=a&amp;plp=a&amp;pli=a&amp;pop=a&amp;pr=' + pr +'&amp;pt=b&amp;pd=' + addate.getDate() + '&amp;pw=' + addate.getDay() + '&amp;pv=' + addate.getHours() + '&amp;prr=' + afReferrer + '&amp;puid17=true&amp;puid16=false&amp;puid10=no_agent&amp;puid7=2323&amp;puid6=15001_20000&amp;puid5=obl_id_1&amp;puid4=offer_type_1&amp;puid3=sale_type_first&amp;puid2=offer_flat&amp;puid1=deal_type_sale&amp;puid9=121&amp;puid8=18356000&amp;dl='+dl+'&amp;pr1='+pr1);\n",
       "// -->\n",
       "</script>\n",
       "<!-- _________________________AdFox Asynchronous code END___________________________ -->\n",
       "</div>"
      ]
     },
     "execution_count": 44,
     "metadata": {},
     "output_type": "execute_result"
    }
   ],
   "source": [
    "livesp"
   ]
  },
  {
   "cell_type": "code",
   "execution_count": 45,
   "metadata": {
    "collapsed": true
   },
   "outputs": [],
   "source": [
    "livesp = html_stripper(livesp)"
   ]
  },
  {
   "cell_type": "code",
   "execution_count": 46,
   "metadata": {
    "collapsed": false,
    "scrolled": false
   },
   "outputs": [
    {
     "data": {
      "text/plain": [
       "\"\\n\\n\\n # Общая информация:\\n\\n\\nЭтаж:\\n\\n                3\\xa0/\\xa08\\n                \\n            \\n\\n\\nТип дома:\\n\\n            новостройка, \\n            монолитный\\n        \\n\\n\\nТип продажи:\\nсвободная\\n\\n\\nОбщая площадь:\\n\\n48,8\\xa0м2\\n\\n\\n\\nПлощадь комнат:\\n\\n–\\n        \\n\\n\\nЖилая площадь:\\n\\n18\\xa0м2\\n\\n\\n\\nПлощадь кухни:\\n\\n10\\xa0м2\\n\\n\\n\\nРаздельных санузлов:\\n1\\n            \\n\\n\\nСовмещенных санузлов:\\n1\\n            \\n\\n\\nБалкон:\\n1 балк. + 1 лодж.\\n        \\n\\n\\nЛифт:\\n4 пасс. + 4 груз.\\n\\n\\nВид из окна:\\nдвор и улица\\n\\n\\nСдача ГК:\\n3 кв. 2017 года\\n\\n\\n\\n\\n\\n<!--Категория: -->\\n\\n\\n\\n\\n<!--\\nif (typeof(pr) == 'undefined') { var pr = Math.floor(Math.random() * 4294967295) + 1; }\\nif (typeof(document.referrer) != 'undefined') {\\n  if (typeof(afReferrer) == 'undefined') {\\n    afReferrer = encodeURIComponent(document.referrer);\\n  }\\n} else {\\n  afReferrer = '';\\n}\\nvar addate = new Date();\\n\\n\\nvar dl = encodeURIComponent(document.location);\\nvar pr1 = Math.floor(Math.random() * 4294967295) + 1;\\n\\n(function(){\\nvar elem = document.getElementById('ad_mortgage_card_exp_1');\\nelem.setAttribute('id', 'ad_mortgage_card_exp_1' + pr1);\\nelem.innerHTML = '';\\nelem.innerHTML += '';\\n})();\\n\\nAdFox_getCodeScript(1,pr1,'//ads.adfox.ru/202100/prepareCode?p1=bvkoc&amp;p2=fkib&amp;pct=a&amp;pfc=a&amp;pfb=a&amp;plp=a&amp;pli=a&amp;pop=a&amp;pr=' + pr +'&amp;pt=b&amp;pd=' + addate.getDate() + '&amp;pw=' + addate.getDay() + '&amp;pv=' + addate.getHours() + '&amp;prr=' + afReferrer + '&amp;puid17=true&amp;puid16=false&amp;puid10=no_agent&amp;puid7=2323&amp;puid6=15001_20000&amp;puid5=obl_id_1&amp;puid4=offer_type_1&amp;puid3=sale_type_first&amp;puid2=offer_flat&amp;puid1=deal_type_sale&amp;puid9=121&amp;puid8=18356000&amp;dl='+dl+'&amp;pr1='+pr1);\\n// -->\\n\\n\\n\""
      ]
     },
     "execution_count": 46,
     "metadata": {},
     "output_type": "execute_result"
    }
   ],
   "source": [
    "livesp"
   ]
  },
  {
   "cell_type": "code",
   "execution_count": 47,
   "metadata": {
    "collapsed": true
   },
   "outputs": [],
   "source": [
    "livesp_number = ''\n",
    "for i in re.split('-|\\n', livesp):\n",
    "    if 'Площадь кухни' in i:\n",
    "        break\n",
    "    else:\n",
    "        livesp_number += i\n",
    "livesp_number = \"\".join(livesp_number.split())\n",
    "\n",
    "livesp_m2 = livesp_number.split(':')[-1].split('м')[0]"
   ]
  },
  {
   "cell_type": "code",
   "execution_count": 48,
   "metadata": {
    "collapsed": true
   },
   "outputs": [],
   "source": [
    "def getlivesp(flat_page):\n",
    "    livesp = flat_page.find('div', attrs={'class':'clearfix'})\n",
    "    livesp = html_stripper(livesp)\n",
    "    livesp_number = ''\n",
    "    for i in re.split('-|\\n', livesp):\n",
    "        if 'Площадь кухни' in i:\n",
    "            break\n",
    "        else:\n",
    "            livesp_number += i\n",
    "    livesp_number = \"\".join(livesp_number.split())\n",
    "    livesp_m2 = livesp_number.split(':')[-1].split('м')[0]\n",
    "    return livesp_m2"
   ]
  },
  {
   "cell_type": "code",
   "execution_count": 49,
   "metadata": {
    "collapsed": false
   },
   "outputs": [
    {
     "data": {
      "text/plain": [
       "'18'"
      ]
     },
     "execution_count": 49,
     "metadata": {},
     "output_type": "execute_result"
    }
   ],
   "source": [
    "getlivesp(flat_page)"
   ]
  },
  {
   "cell_type": "code",
   "execution_count": 50,
   "metadata": {
    "collapsed": true
   },
   "outputs": [],
   "source": [
    "flatStats['livesp'] = getlivesp(flat_page)"
   ]
  },
  {
   "cell_type": "markdown",
   "metadata": {},
   "source": [
    "# Площадь кухни"
   ]
  },
  {
   "cell_type": "code",
   "execution_count": 51,
   "metadata": {
    "collapsed": false
   },
   "outputs": [],
   "source": [
    "kitsp_number = ''\n",
    "for i in re.split('-|\\n', livesp):\n",
    "    if 'Санузел' in i:\n",
    "        break\n",
    "    else:\n",
    "        kitsp_number += i\n",
    "kitsp_number = \"\".join(kitsp_number.split())\n",
    "\n",
    "kitsp_m2 = kitsp_number.split(':')[-1].split('м')[0]"
   ]
  },
  {
   "cell_type": "code",
   "execution_count": 52,
   "metadata": {
    "collapsed": true
   },
   "outputs": [],
   "source": [
    "def getkitsp(flat_page):\n",
    "    kitsp = flat_page.find('div', attrs={'class':'clearfix'})\n",
    "    kitsp = html_stripper(kitsp)\n",
    "    kitsp_number = ''\n",
    "    for i in re.split('-|\\n', kitsp):\n",
    "        if 'Санузел' in i:\n",
    "            break\n",
    "        else:\n",
    "            kitsp_number += i\n",
    "    kitsp_number = \"\".join(kitsp_number.split())\n",
    "    kitsp_m2 = kitsp_number.split(':')[-1].split('м')[0]\n",
    "    return kitsp_m2 "
   ]
  },
  {
   "cell_type": "code",
   "execution_count": 53,
   "metadata": {
    "collapsed": false,
    "scrolled": true
   },
   "outputs": [
    {
     "data": {
      "text/plain": [
       "\"><!if(typeof(pr)=='undefined'){varpr=Math.floor(Math.random()*4294967295)+1;}if(typeof(document.referrer)!='undefined'){if(typeof(afReferrer)=='undefined'){afReferrer=encodeURIComponent(document.referrer);}}else{afReferrer='';}varaddate=newDate();vardl=encodeURIComponent(document.location);varpr1=Math.floor(Math.random()*4294967295)+1;(function(){varelem=document.getElementById('ad_mortgage_card_exp_1');elem.setAttribute('id','ad_mortgage_card_exp_1'+pr1);elem.innerHTML='';elem.innerHTML+='';})();AdFox_getCodeScript(1,pr1,'//ads.adfox.ru/202100/prepareCode?p1=bvkoc&amp;p2=fkib&amp;pct=a&amp;pfc=a&amp;pfb=a&amp;plp=a&amp;pli=a&amp;pop=a&amp;pr='+pr+'&amp;pt=b&amp;pd='+addate.getDate()+'&amp;pw='+addate.getDay()+'&amp;pv='+addate.getHours()+'&amp;prr='+afReferrer+'&amp;puid17=true&amp;puid16=false&amp;puid10=no_agent&amp;puid7=2323&amp;puid6=15001_20000&amp;puid5=obl_id_1&amp;puid4=offer_type_1&amp;puid3=sale_type_first&amp;puid2=offer_flat&amp;puid1=deal_type_sale&amp;puid9=121&amp;puid8=18356000&amp;dl='+dl+'&amp;pr1='+pr1);//>\""
      ]
     },
     "execution_count": 53,
     "metadata": {},
     "output_type": "execute_result"
    }
   ],
   "source": [
    "getkitsp(flat_page)"
   ]
  },
  {
   "cell_type": "code",
   "execution_count": 54,
   "metadata": {
    "collapsed": true
   },
   "outputs": [],
   "source": [
    "flatStats['kitsp'] = getkitsp(flat_page)"
   ]
  },
  {
   "cell_type": "markdown",
   "metadata": {},
   "source": [
    "# Тип дома"
   ]
  },
  {
   "cell_type": "code",
   "execution_count": 59,
   "metadata": {
    "collapsed": true
   },
   "outputs": [],
   "source": [
    "#brick = flat_page.find('div', attrs={'class':'bti__col'})\n",
    "#brick = html_stripper(brick)"
   ]
  },
  {
   "cell_type": "code",
   "execution_count": 62,
   "metadata": {
    "collapsed": true
   },
   "outputs": [
    {
     "data": {
      "text/plain": [
       "\"\\n\\n\\n # Общая информация:\\n\\n\\nЭтаж:\\n\\n                3\\xa0/\\xa08\\n                \\n            \\n\\n\\nТип дома:\\n\\n            новостройка, \\n            монолитный\\n        \\n\\n\\nТип продажи:\\nсвободная\\n\\n\\nОбщая площадь:\\n\\n48,8\\xa0м2\\n\\n\\n\\nПлощадь комнат:\\n\\n–\\n        \\n\\n\\nЖилая площадь:\\n\\n18\\xa0м2\\n\\n\\n\\nПлощадь кухни:\\n\\n10\\xa0м2\\n\\n\\n\\nРаздельных санузлов:\\n1\\n            \\n\\n\\nСовмещенных санузлов:\\n1\\n            \\n\\n\\nБалкон:\\n1 балк. + 1 лодж.\\n        \\n\\n\\nЛифт:\\n4 пасс. + 4 груз.\\n\\n\\nВид из окна:\\nдвор и улица\\n\\n\\nСдача ГК:\\n3 кв. 2017 года\\n\\n\\n\\n\\n\\n<!--Категория: -->\\n\\n\\n\\n\\n<!--\\nif (typeof(pr) == 'undefined') { var pr = Math.floor(Math.random() * 4294967295) + 1; }\\nif (typeof(document.referrer) != 'undefined') {\\n  if (typeof(afReferrer) == 'undefined') {\\n    afReferrer = encodeURIComponent(document.referrer);\\n  }\\n} else {\\n  afReferrer = '';\\n}\\nvar addate = new Date();\\n\\n\\nvar dl = encodeURIComponent(document.location);\\nvar pr1 = Math.floor(Math.random() * 4294967295) + 1;\\n\\n(function(){\\nvar elem = document.getElementById('ad_mortgage_card_exp_1');\\nelem.setAttribute('id', 'ad_mortgage_card_exp_1' + pr1);\\nelem.innerHTML = '';\\nelem.innerHTML += '';\\n})();\\n\\nAdFox_getCodeScript(1,pr1,'//ads.adfox.ru/202100/prepareCode?p1=bvkoc&amp;p2=fkib&amp;pct=a&amp;pfc=a&amp;pfb=a&amp;plp=a&amp;pli=a&amp;pop=a&amp;pr=' + pr +'&amp;pt=b&amp;pd=' + addate.getDate() + '&amp;pw=' + addate.getDay() + '&amp;pv=' + addate.getHours() + '&amp;prr=' + afReferrer + '&amp;puid17=true&amp;puid16=false&amp;puid10=no_agent&amp;puid7=2323&amp;puid6=15001_20000&amp;puid5=obl_id_1&amp;puid4=offer_type_1&amp;puid3=sale_type_first&amp;puid2=offer_flat&amp;puid1=deal_type_sale&amp;puid9=121&amp;puid8=18356000&amp;dl='+dl+'&amp;pr1='+pr1);\\n// -->\\n\\n\\n\""
      ]
     },
     "execution_count": 62,
     "metadata": {},
     "output_type": "execute_result"
    }
   ],
   "source": [
    "livesp"
   ]
  },
  {
   "cell_type": "code",
   "execution_count": 69,
   "metadata": {
    "collapsed": false
   },
   "outputs": [],
   "source": [
    "brick_number = ''\n",
    "for i in re.split('-|\\n', livesp):\n",
    "    if 'Тип продажи' in i:\n",
    "        break\n",
    "    else:\n",
    "        brick_number += i\n",
    "brick_number = \"\".join(brick_number.split()).split(\":\")[-1]"
   ]
  },
  {
   "cell_type": "code",
   "execution_count": 70,
   "metadata": {
    "collapsed": false
   },
   "outputs": [
    {
     "data": {
      "text/plain": [
       "'новостройка,монолитный'"
      ]
     },
     "execution_count": 70,
     "metadata": {},
     "output_type": "execute_result"
    }
   ],
   "source": [
    "brick_number"
   ]
  },
  {
   "cell_type": "code",
   "execution_count": 72,
   "metadata": {
    "collapsed": false
   },
   "outputs": [],
   "source": [
    "def getbrick(flat_page):\n",
    "    brick = flat_page.find('div', attrs={'class':'clearfix'})\n",
    "    brick = html_stripper(brick)\n",
    "    brick_number = ''\n",
    "    for i in re.split('-|\\n', brick):\n",
    "        if 'Тип продажи' in i:\n",
    "            break\n",
    "        else:\n",
    "            brick_number += i\n",
    "    brick_number = \"\".join(brick_number.split()).split(\":\")[-1]\n",
    "    return brick_number "
   ]
  },
  {
   "cell_type": "code",
   "execution_count": 73,
   "metadata": {
    "collapsed": false
   },
   "outputs": [
    {
     "data": {
      "text/plain": [
       "'новостройка,монолитный'"
      ]
     },
     "execution_count": 73,
     "metadata": {},
     "output_type": "execute_result"
    }
   ],
   "source": [
    "getbrick(flat_page)"
   ]
  },
  {
   "cell_type": "code",
   "execution_count": 74,
   "metadata": {
    "collapsed": true
   },
   "outputs": [],
   "source": [
    "flatStats['brick'] = getbrick(flat_page)"
   ]
  },
  {
   "cell_type": "markdown",
   "metadata": {},
   "source": [
    "# Телефон"
   ]
  },
  {
   "cell_type": "code",
   "execution_count": 86,
   "metadata": {
    "collapsed": true
   },
   "outputs": [],
   "source": [
    "tel = flat_page.find('div', attrs={'class':'realtor-card__phone'})\n",
    "tel = html_stripper(tel)"
   ]
  },
  {
   "cell_type": "code",
   "execution_count": 87,
   "metadata": {
    "collapsed": false
   },
   "outputs": [
    {
     "data": {
      "text/plain": [
       "'\\n+7 495 134-61-40\\n'"
      ]
     },
     "execution_count": 87,
     "metadata": {},
     "output_type": "execute_result"
    }
   ],
   "source": [
    "tel"
   ]
  },
  {
   "cell_type": "code",
   "execution_count": 95,
   "metadata": {
    "collapsed": false,
    "scrolled": true
   },
   "outputs": [
    {
     "data": {
      "text/plain": [
       "'+7 495 1346140'"
      ]
     },
     "execution_count": 95,
     "metadata": {},
     "output_type": "execute_result"
    }
   ],
   "source": [
    "phone_number = ''\n",
    "for i in re.split('-|\\n', tel):\n",
    "    if '>' in i:\n",
    "        break\n",
    "    else:\n",
    "        phone_number += i\n",
    "phone_number # = \"\".join(brick_number.split()).split(\":\")[-1]"
   ]
  },
  {
   "cell_type": "code",
   "execution_count": 96,
   "metadata": {
    "collapsed": true
   },
   "outputs": [],
   "source": [
    "def gettel(flat_page):\n",
    "    tel = flat_page.find('div', attrs={'class':'realtor-card__phone'})\n",
    "    tel = html_stripper(tel)\n",
    "    phone_number = ''\n",
    "    for i in re.split('-|\\n', tel):\n",
    "        if '>' in i:\n",
    "            break\n",
    "        else:\n",
    "            phone_number += i\n",
    "    return phone_number "
   ]
  },
  {
   "cell_type": "code",
   "execution_count": 98,
   "metadata": {
    "collapsed": false
   },
   "outputs": [
    {
     "data": {
      "text/plain": [
       "'+7 495 1346140'"
      ]
     },
     "execution_count": 98,
     "metadata": {},
     "output_type": "execute_result"
    }
   ],
   "source": [
    "gettel(flat_page)"
   ]
  },
  {
   "cell_type": "code",
   "execution_count": 99,
   "metadata": {
    "collapsed": true
   },
   "outputs": [],
   "source": [
    "flatStats['tel'] = gettel(flat_page)"
   ]
  },
  {
   "cell_type": "markdown",
   "metadata": {},
   "source": [
    "# Балкон"
   ]
  },
  {
   "cell_type": "code",
   "execution_count": 154,
   "metadata": {
    "collapsed": true
   },
   "outputs": [
    {
     "data": {
      "text/plain": [
       "\"\\n\\n\\n # Общая информация:\\n\\n\\nЭтаж:\\n\\n                3\\xa0/\\xa04\\n                \\n            \\n\\n\\nТип дома:\\n\\n            вторичка\\n            \\n        \\n\\n\\nТип продажи:\\nсвободная\\n\\n\\nОбщая площадь:\\n\\n185\\xa0м2\\n\\n\\n\\nПлощадь комнат:\\n\\n–\\n        \\n\\n\\nЖилая площадь:\\n\\n–\\n        \\n\\n\\nПлощадь кухни:\\n\\n–\\n        \\n\\n\\nСанузел:\\n–\\n        \\n\\n\\nБалкон:\\n–\\n        \\n\\n\\nЛифт:\\n1 пасс.\\n\\n\\nВид из окна:\\n–\\n\\n\\n\\n\\n\\n<!--Категория: -->\\n\\n\\n\\n\\n<!--\\nif (typeof(pr) == 'undefined') { var pr = Math.floor(Math.random() * 4294967295) + 1; }\\nif (typeof(document.referrer) != 'undefined') {\\n  if (typeof(afReferrer) == 'undefined') {\\n    afReferrer = encodeURIComponent(document.referrer);\\n  }\\n} else {\\n  afReferrer = '';\\n}\\nvar addate = new Date();\\n\\n\\nvar dl = encodeURIComponent(document.location);\\nvar pr1 = Math.floor(Math.random() * 4294967295) + 1;\\n\\n(function(){\\nvar elem = document.getElementById('ad_mortgage_card_exp_1');\\nelem.setAttribute('id', 'ad_mortgage_card_exp_1' + pr1);\\nelem.innerHTML = '';\\nelem.innerHTML += '';\\n})();\\n\\nAdFox_getCodeScript(1,pr1,'//ads.adfox.ru/202100/prepareCode?p1=bvkoc&amp;p2=fkib&amp;pct=a&amp;pfc=a&amp;pfb=a&amp;plp=a&amp;pli=a&amp;pop=a&amp;pr=' + pr +'&amp;pt=b&amp;pd=' + addate.getDate() + '&amp;pw=' + addate.getDay() + '&amp;pv=' + addate.getHours() + '&amp;prr=' + afReferrer + '&amp;puid17=false&amp;puid16=false&amp;puid10=no_agent&amp;puid7=2323&amp;puid6=50001_max&amp;puid5=obl_id_1&amp;puid4=offer_type_4&amp;puid3=sale_type_second&amp;puid2=offer_flat&amp;puid1=deal_type_sale&amp;puid9=77&amp;puid8=191209200&amp;dl='+dl+'&amp;pr1='+pr1);\\n// -->\\n\\n\\n\""
      ]
     },
     "execution_count": 154,
     "metadata": {},
     "output_type": "execute_result"
    }
   ],
   "source": [
    "livesp"
   ]
  },
  {
   "cell_type": "code",
   "execution_count": 108,
   "metadata": {
    "collapsed": true
   },
   "outputs": [],
   "source": [
    "bal_number = ''\n",
    "for i in re.split('-|\\n', livesp):\n",
    "    if 'Лифт' in i:\n",
    "        break\n",
    "    else:\n",
    "        bal_number += i\n",
    "bal_number = \"\".join(bal_number.split())\n",
    "\n",
    "bal_is = bal_number.split(':')[-1]"
   ]
  },
  {
   "cell_type": "code",
   "execution_count": 110,
   "metadata": {
    "collapsed": false
   },
   "outputs": [],
   "source": [
    "if bal_is=='-':\n",
    "    bal=0\n",
    "else: bal=1"
   ]
  },
  {
   "cell_type": "code",
   "execution_count": 111,
   "metadata": {
    "collapsed": false
   },
   "outputs": [
    {
     "data": {
      "text/plain": [
       "1"
      ]
     },
     "execution_count": 111,
     "metadata": {},
     "output_type": "execute_result"
    }
   ],
   "source": [
    "bal"
   ]
  },
  {
   "cell_type": "code",
   "execution_count": 118,
   "metadata": {
    "collapsed": true
   },
   "outputs": [],
   "source": [
    "def getbal(flat_page):\n",
    "    bal = flat_page.find('div', attrs={'class':'clearfix'})\n",
    "    bal = html_stripper(bal)\n",
    "    bal_number = ''\n",
    "    for i in re.split('-|\\n', bal):\n",
    "        if 'Лифт' in i:\n",
    "            break\n",
    "        else:\n",
    "            bal_number += i\n",
    "        bal_number = \"\".join(bal_number.split()).split(':')[-1]\n",
    "        if bal_is=='-':\n",
    "            bal=0\n",
    "        else: bal=1\n",
    "    return bal"
   ]
  },
  {
   "cell_type": "code",
   "execution_count": 120,
   "metadata": {
    "collapsed": true
   },
   "outputs": [],
   "source": [
    "flatStats['bal'] = getbal(flat_page)"
   ]
  },
  {
   "cell_type": "markdown",
   "metadata": {},
   "source": [
    "# Таблица"
   ]
  },
  {
   "cell_type": "code",
   "execution_count": 34,
   "metadata": {
    "collapsed": true
   },
   "outputs": [],
   "source": [
    "table = flat_page.find('table', attrs = {'class':'object_descr_props'})"
   ]
  },
  {
   "cell_type": "code",
   "execution_count": 35,
   "metadata": {
    "collapsed": true
   },
   "outputs": [
    {
     "data": {
      "text/plain": [
       "<table class=\"object_descr_props flat sale\" style=\"float:left\">\\n<tr>\\n<th style=\"padding-top:5px;\"> # \\u041e\\u0431\\u0449\\u0430\\u044f \\u0438\\u043d\\u0444\\u043e\\u0440\\u043c\\u0430\\u0446\\u0438\\u044f:</th>\\n</tr>\\n<tr>\\n<th>\\u042d\\u0442\\u0430\\u0436:</th>\\n<td>\\n                9\\xa0\\n                \\n            </td>\\n</tr>\\n<tr>\\n<th>\\u0422\\u0438\\u043f \\u0434\\u043e\\u043c\\u0430:</th>\\n<td>\\n            \\u0432\\u0442\\u043e\\u0440\\u0438\\u0447\\u043a\\u0430, \\n            \\u043c\\u043e\\u043d\\u043e\\u043b\\u0438\\u0442\\u043d\\u044b\\u0439\\n        </td>\\n</tr>\\n<tr>\\n<th>\\u0422\\u0438\\u043f \\u043f\\u0440\\u043e\\u0434\\u0430\\u0436\\u0438:</th>\\n<td>\\u0441\\u0432\\u043e\\u0431\\u043e\\u0434\\u043d\\u0430\\u044f</td>\\n</tr>\\n<tr>\\n<th>\\u041e\\u0431\\u0449\\u0430\\u044f \\u043f\\u043b\\u043e\\u0449\\u0430\\u0434\\u044c:</th>\\n<td>\\n<i class=\"object_descr_details_color\"></i>100\\xa0\\u043c<sup>2</sup>\\n</td>\\n</tr>\\n<tr>\\n<th>\\u041f\\u043b\\u043e\\u0449\\u0430\\u0434\\u044c \\u043a\\u043e\\u043c\\u043d\\u0430\\u0442:</th>\\n<td>\\n<i class=\"object_descr_details_color\"></i><!--\\n-->\\u2013\\n        </td>\\n</tr>\\n<tr>\\n<th>\\u0416\\u0438\\u043b\\u0430\\u044f \\u043f\\u043b\\u043e\\u0449\\u0430\\u0434\\u044c:</th>\\n<td>\\n<i class=\"object_descr_details_color\" style=\"background-color:#90C090\"></i>79\\xa0\\u043c<sup>2</sup>\\n</td>\\n</tr>\\n<tr>\\n<th>\\u041f\\u043b\\u043e\\u0449\\u0430\\u0434\\u044c \\u043a\\u0443\\u0445\\u043d\\u0438:</th>\\n<td>\\n<i class=\"object_descr_details_color\" style=\"background-color:#C09090\"></i>21\\xa0\\u043c<sup>2</sup>\\n</td>\\n</tr>\\n<tr>\\n<th>\\u0420\\u0430\\u0437\\u0434\\u0435\\u043b\\u044c\\u043d\\u044b\\u0445 \\u0441\\u0430\\u043d\\u0443\\u0437\\u043b\\u043e\\u0432:</th>\\n<td><i class=\"object_descr_details_color\" style=\"background-color:#90C0C0\"></i>2\\n            </td>\\n</tr>\\n<tr>\\n<th>\\u0411\\u0430\\u043b\\u043a\\u043e\\u043d:</th>\\n<td><i class=\"object_descr_details_color\" style=\"background-color:#C0C0C0\"></i>1 \\u0431\\u0430\\u043b\\u043a.\\n        </td>\\n</tr>\\n<tr>\\n<th>\\u041b\\u0438\\u0444\\u0442:</th>\\n<td>1 \\u043f\\u0430\\u0441\\u0441. + 1 \\u0433\\u0440\\u0443\\u0437.</td>\\n</tr>\\n<tr>\\n<th>\\u0422\\u0435\\u043b\\u0435\\u0444\\u043e\\u043d:</th>\\n<td>\\u0434\\u0430</td>\\n</tr>\\n<tr>\\n<th>\\u0412\\u0438\\u0434 \\u0438\\u0437 \\u043e\\u043a\\u043d\\u0430:</th>\\n<td>\\u2013</td>\\n</tr>\\n</table>"
      ]
     },
     "execution_count": 35,
     "metadata": {},
     "output_type": "execute_result"
    }
   ],
   "source": [
    "table"
   ]
  },
  {
   "cell_type": "code",
   "execution_count": 36,
   "metadata": {
    "collapsed": true
   },
   "outputs": [
    {
     "name": "stdout",
     "output_type": "stream",
     "text": [
      "\n",
      "\n",
      " # Общая информация:\n",
      "\n",
      "\n",
      "Этаж:\n",
      "\n",
      "                9 \n",
      "                \n",
      "            \n",
      "\n",
      "\n",
      "Тип дома:\n",
      "\n",
      "            вторичка, \n",
      "            монолитный\n",
      "        \n",
      "\n",
      "\n",
      "Тип продажи:\n",
      "свободная\n",
      "\n",
      "\n",
      "Общая площадь:\n",
      "\n",
      "100 м2\n",
      "\n",
      "\n",
      "\n",
      "Площадь комнат:\n",
      "\n",
      "–\n",
      "        \n",
      "\n",
      "\n",
      "Жилая площадь:\n",
      "\n",
      "79 м2\n",
      "\n",
      "\n",
      "\n",
      "Площадь кухни:\n",
      "\n",
      "21 м2\n",
      "\n",
      "\n",
      "\n",
      "Раздельных санузлов:\n",
      "2\n",
      "            \n",
      "\n",
      "\n",
      "Балкон:\n",
      "1 балк.\n",
      "        \n",
      "\n",
      "\n",
      "Лифт:\n",
      "1 пасс. + 1 груз.\n",
      "\n",
      "\n",
      "Телефон:\n",
      "да\n",
      "\n",
      "\n",
      "Вид из окна:\n",
      "–\n",
      "\n",
      "\n"
     ]
    }
   ],
   "source": [
    "print(html_stripper(table))"
   ]
  },
  {
   "cell_type": "code",
   "execution_count": 37,
   "metadata": {
    "collapsed": true
   },
   "outputs": [],
   "source": [
    "table = html_stripper(table)"
   ]
  },
  {
   "cell_type": "code",
   "execution_count": 38,
   "metadata": {
    "collapsed": false
   },
   "outputs": [
    {
     "name": "stdout",
     "output_type": "stream",
     "text": [
      ":\n",
      "\n",
      "                9 \n",
      "                \n",
      "            \n",
      "\n",
      "\n",
      "\n"
     ]
    }
   ],
   "source": [
    "print(re.split('Этаж|Тип дома', table)[1])"
   ]
  },
  {
   "cell_type": "code",
   "execution_count": 39,
   "metadata": {
    "collapsed": false
   },
   "outputs": [
    {
     "data": {
      "text/plain": [
       "'http://www.cian.ru/sale/flat/150913161/'"
      ]
     },
     "execution_count": 39,
     "metadata": {},
     "output_type": "execute_result"
    }
   ],
   "source": [
    "flat_url"
   ]
  },
  {
   "cell_type": "code",
   "execution_count": null,
   "metadata": {
    "collapsed": true
   },
   "outputs": [],
   "source": []
  }
 ],
 "metadata": {
  "anaconda-cloud": {},
  "kernelspec": {
   "display_name": "Python [conda root]",
   "language": "python",
   "name": "conda-root-py"
  },
  "language_info": {
   "codemirror_mode": {
    "name": "ipython",
    "version": 3
   },
   "file_extension": ".py",
   "mimetype": "text/x-python",
   "name": "python",
   "nbconvert_exporter": "python",
   "pygments_lexer": "ipython3",
   "version": "3.5.2"
  }
 },
 "nbformat": 4,
 "nbformat_minor": 0
}
